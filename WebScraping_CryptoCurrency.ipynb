{
 "cells": [
  {
   "cell_type": "code",
   "execution_count": 1,
   "id": "199baea4",
   "metadata": {
    "id": "199baea4"
   },
   "outputs": [],
   "source": [
    "# Import Libraries\n",
    "import requests\n",
    "import numpy as np\n",
    "import pandas as pd\n",
    "from datetime import datetime\n",
    "from dateutil.relativedelta import relativedelta"
   ]
  },
  {
   "cell_type": "code",
   "execution_count": 2,
   "id": "99b451bf",
   "metadata": {
    "id": "99b451bf"
   },
   "outputs": [],
   "source": [
    "# The List of cryptocurrencies\n",
    "coin_list = ['BTC']"
   ]
  },
  {
   "cell_type": "code",
   "execution_count": 3,
   "id": "22ac607f",
   "metadata": {
    "id": "22ac607f"
   },
   "outputs": [],
   "source": [
    "#defining the dataframe\n",
    "main_df = pd.DataFrame()"
   ]
  },
  {
   "cell_type": "code",
   "execution_count": 4,
   "id": "b64d690e",
   "metadata": {
    "colab": {
     "base_uri": "https://localhost:8080/"
    },
    "id": "b64d690e",
    "outputId": "aeebc4fc-6058-4056-c550-942a5956b05a"
   },
   "outputs": [
    {
     "name": "stdout",
     "output_type": "stream",
     "text": [
      "No more data for BTC in this time range.\n"
     ]
    }
   ],
   "source": [
    "# Reset datetime_end for each coin to ensure the loop starts with the current date and time\n",
    "datetime_end = datetime.now()\n",
    "for coin in coin_list:\n",
    "    coin_df = pd.DataFrame()  # Initialize an empty DataFrame for each coin\n",
    "    \n",
    "    while True:\n",
    "        # Define the time range (12-hour intervals)\n",
    "        datetime_start = datetime_end - relativedelta(hours=12)\n",
    "        \n",
    "        # API for scraping\n",
    "        url = f'https://production.api.coindesk.com/v2/price/values/{coin}?start_date={datetime_start.strftime(\"%Y-%m-%dT%H:%M\")}&end_date={datetime_end.strftime(\"%Y-%m-%dT%H:%M\")}&ohlc=true'\n",
    "        \n",
    "        # Fetch data from the API\n",
    "        temp_data = requests.get(url).json()\n",
    "        \n",
    "        # Convert the fetched data to a DataFrame\n",
    "        df = pd.DataFrame(temp_data['data']['entries'])\n",
    "        \n",
    "        # Check if the DataFrame is empty before proceeding\n",
    "        if df.empty:\n",
    "            print(f\"No more data for {coin} in this time range.\")\n",
    "            break\n",
    "        \n",
    "        # Assign column names\n",
    "        df.columns = ['Timestamp', 'Open', 'High', 'Low', 'Close']\n",
    "        \n",
    "        # Handle missing data logic as needed (not provided)\n",
    "        \n",
    "        # Process timestamps and append to the coin_df\n",
    "        df = df.drop(['Timestamp'], axis=1)  # Drop the raw timestamp column\n",
    "        df['Datetime'] = [datetime_end - relativedelta(minutes=len(df)-i) for i in range(0, len(df))]  # Add a 'Datetime' column\n",
    "        coin_df = pd.concat([coin_df, df], ignore_index=True)  # Concatenate df to coin_df\n",
    "\n",
    "        # Move the datetime_end backwards by 12 hours\n",
    "        datetime_end = datetime_start\n",
    "    \n",
    "    # Add the cryptocurrency symbol to the DataFrame\n",
    "    if not coin_df.empty:\n",
    "        coin_df['Symbol'] = coin\n",
    "    \n",
    "    # Concatenate the coin_df to the main_df\n",
    "    main_df = pd.concat([main_df, coin_df], ignore_index=True)\n",
    "\n",
    "# Export the final dataframe to a CSV file\n",
    "main_df.to_csv('BTC_df.csv', index=False)"
   ]
  },
  {
   "cell_type": "code",
   "execution_count": 5,
   "id": "ae0c639f",
   "metadata": {
    "colab": {
     "base_uri": "https://localhost:8080/",
     "height": 423
    },
    "id": "ae0c639f",
    "outputId": "940b7130-fe3b-4dd1-c9aa-88c0668bf63c"
   },
   "outputs": [
    {
     "data": {
      "text/html": [
       "<div>\n",
       "<style scoped>\n",
       "    .dataframe tbody tr th:only-of-type {\n",
       "        vertical-align: middle;\n",
       "    }\n",
       "\n",
       "    .dataframe tbody tr th {\n",
       "        vertical-align: top;\n",
       "    }\n",
       "\n",
       "    .dataframe thead th {\n",
       "        text-align: right;\n",
       "    }\n",
       "</style>\n",
       "<table border=\"1\" class=\"dataframe\">\n",
       "  <thead>\n",
       "    <tr style=\"text-align: right;\">\n",
       "      <th></th>\n",
       "      <th>Datetime</th>\n",
       "      <th>Symbol</th>\n",
       "      <th>Open</th>\n",
       "      <th>High</th>\n",
       "      <th>Low</th>\n",
       "      <th>Close</th>\n",
       "    </tr>\n",
       "  </thead>\n",
       "  <tbody>\n",
       "    <tr>\n",
       "      <th>0</th>\n",
       "      <td>2024-10-21 12:50:24.917752</td>\n",
       "      <td>BTC</td>\n",
       "      <td>68672.876640</td>\n",
       "      <td>68673.430524</td>\n",
       "      <td>68658.638010</td>\n",
       "      <td>68663.384456</td>\n",
       "    </tr>\n",
       "    <tr>\n",
       "      <th>1</th>\n",
       "      <td>2024-10-21 12:51:24.917752</td>\n",
       "      <td>BTC</td>\n",
       "      <td>68664.134150</td>\n",
       "      <td>68664.134150</td>\n",
       "      <td>68645.616929</td>\n",
       "      <td>68650.190862</td>\n",
       "    </tr>\n",
       "    <tr>\n",
       "      <th>2</th>\n",
       "      <td>2024-10-21 12:52:24.917752</td>\n",
       "      <td>BTC</td>\n",
       "      <td>68647.202306</td>\n",
       "      <td>68655.503119</td>\n",
       "      <td>68624.012529</td>\n",
       "      <td>68625.220021</td>\n",
       "    </tr>\n",
       "    <tr>\n",
       "      <th>3</th>\n",
       "      <td>2024-10-21 12:53:24.917752</td>\n",
       "      <td>BTC</td>\n",
       "      <td>68624.876797</td>\n",
       "      <td>68644.715017</td>\n",
       "      <td>68620.710033</td>\n",
       "      <td>68639.687558</td>\n",
       "    </tr>\n",
       "    <tr>\n",
       "      <th>4</th>\n",
       "      <td>2024-10-21 12:54:24.917752</td>\n",
       "      <td>BTC</td>\n",
       "      <td>68632.261842</td>\n",
       "      <td>68632.261842</td>\n",
       "      <td>68613.203077</td>\n",
       "      <td>68616.455362</td>\n",
       "    </tr>\n",
       "    <tr>\n",
       "      <th>...</th>\n",
       "      <td>...</td>\n",
       "      <td>...</td>\n",
       "      <td>...</td>\n",
       "      <td>...</td>\n",
       "      <td>...</td>\n",
       "      <td>...</td>\n",
       "    </tr>\n",
       "    <tr>\n",
       "      <th>3099</th>\n",
       "      <td>2024-08-22 07:17:24.917752</td>\n",
       "      <td>BTC</td>\n",
       "      <td>60846.819307</td>\n",
       "      <td>60849.493597</td>\n",
       "      <td>60662.457478</td>\n",
       "      <td>60686.464231</td>\n",
       "    </tr>\n",
       "    <tr>\n",
       "      <th>3100</th>\n",
       "      <td>2024-08-22 07:18:24.917752</td>\n",
       "      <td>BTC</td>\n",
       "      <td>60744.390989</td>\n",
       "      <td>60966.230079</td>\n",
       "      <td>60711.616098</td>\n",
       "      <td>60735.623447</td>\n",
       "    </tr>\n",
       "    <tr>\n",
       "      <th>3101</th>\n",
       "      <td>2024-08-22 07:19:24.917752</td>\n",
       "      <td>BTC</td>\n",
       "      <td>60778.311319</td>\n",
       "      <td>60881.715402</td>\n",
       "      <td>60709.936587</td>\n",
       "      <td>60877.832835</td>\n",
       "    </tr>\n",
       "    <tr>\n",
       "      <th>3102</th>\n",
       "      <td>2024-08-21 19:18:24.917752</td>\n",
       "      <td>BTC</td>\n",
       "      <td>59989.928759</td>\n",
       "      <td>60689.146572</td>\n",
       "      <td>59833.749692</td>\n",
       "      <td>60377.391520</td>\n",
       "    </tr>\n",
       "    <tr>\n",
       "      <th>3103</th>\n",
       "      <td>2024-08-21 19:19:24.917752</td>\n",
       "      <td>BTC</td>\n",
       "      <td>60768.648718</td>\n",
       "      <td>61445.009340</td>\n",
       "      <td>60733.819659</td>\n",
       "      <td>61232.015157</td>\n",
       "    </tr>\n",
       "  </tbody>\n",
       "</table>\n",
       "<p>3104 rows × 6 columns</p>\n",
       "</div>"
      ],
      "text/plain": [
       "                       Datetime Symbol          Open          High  \\\n",
       "0    2024-10-21 12:50:24.917752    BTC  68672.876640  68673.430524   \n",
       "1    2024-10-21 12:51:24.917752    BTC  68664.134150  68664.134150   \n",
       "2    2024-10-21 12:52:24.917752    BTC  68647.202306  68655.503119   \n",
       "3    2024-10-21 12:53:24.917752    BTC  68624.876797  68644.715017   \n",
       "4    2024-10-21 12:54:24.917752    BTC  68632.261842  68632.261842   \n",
       "...                         ...    ...           ...           ...   \n",
       "3099 2024-08-22 07:17:24.917752    BTC  60846.819307  60849.493597   \n",
       "3100 2024-08-22 07:18:24.917752    BTC  60744.390989  60966.230079   \n",
       "3101 2024-08-22 07:19:24.917752    BTC  60778.311319  60881.715402   \n",
       "3102 2024-08-21 19:18:24.917752    BTC  59989.928759  60689.146572   \n",
       "3103 2024-08-21 19:19:24.917752    BTC  60768.648718  61445.009340   \n",
       "\n",
       "               Low         Close  \n",
       "0     68658.638010  68663.384456  \n",
       "1     68645.616929  68650.190862  \n",
       "2     68624.012529  68625.220021  \n",
       "3     68620.710033  68639.687558  \n",
       "4     68613.203077  68616.455362  \n",
       "...            ...           ...  \n",
       "3099  60662.457478  60686.464231  \n",
       "3100  60711.616098  60735.623447  \n",
       "3101  60709.936587  60877.832835  \n",
       "3102  59833.749692  60377.391520  \n",
       "3103  60733.819659  61232.015157  \n",
       "\n",
       "[3104 rows x 6 columns]"
      ]
     },
     "execution_count": 5,
     "metadata": {},
     "output_type": "execute_result"
    }
   ],
   "source": [
    "main_df = main_df[['Datetime', 'Symbol', 'Open', 'High', 'Low', 'Close']].reset_index(drop=True)\n",
    "main_df"
   ]
  },
  {
   "cell_type": "code",
   "execution_count": 6,
   "id": "0a34284c",
   "metadata": {
    "id": "0a34284c"
   },
   "outputs": [],
   "source": [
    "main_df.to_csv('EOS_df.csv', index=False)"
   ]
  }
 ],
 "metadata": {
  "colab": {
   "collapsed_sections": [],
   "name": "WebScraping - CryptoCurrency.ipynb",
   "provenance": []
  },
  "kernelspec": {
   "display_name": "Python 3 (ipykernel)",
   "language": "python",
   "name": "python3"
  },
  "language_info": {
   "codemirror_mode": {
    "name": "ipython",
    "version": 3
   },
   "file_extension": ".py",
   "mimetype": "text/x-python",
   "name": "python",
   "nbconvert_exporter": "python",
   "pygments_lexer": "ipython3",
   "version": "3.11.7"
  }
 },
 "nbformat": 4,
 "nbformat_minor": 5
}
